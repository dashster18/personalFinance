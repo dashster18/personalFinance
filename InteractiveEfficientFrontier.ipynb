{
 "cells": [
  {
   "cell_type": "code",
   "execution_count": 5,
   "metadata": {},
   "outputs": [
    {
     "name": "stdout",
     "output_type": "stream",
     "text": [
      "The autoreload extension is already loaded. To reload it, use:\n",
      "  %reload_ext autoreload\n"
     ]
    }
   ],
   "source": [
    "import numpy as np\n",
    "import pandas as pd\n",
    "import edhec_risk_kit as erk\n",
    "import ipywidgets as widgets\n",
    "from ipywidgets import interact, interactive, fixed, interact_manual\n",
    "from IPython.display import display\n",
    "\n",
    "%load_ext autoreload\n",
    "%autoreload 2\n",
    "%matplotlib inline"
   ]
  },
  {
   "cell_type": "code",
   "execution_count": 6,
   "metadata": {},
   "outputs": [],
   "source": [
    "ind = erk.get_ind_returns()\n",
    "er = erk.annualize_rets(ind, periods_per_year=12)\n",
    "cov = ind.cov()"
   ]
  },
  {
   "cell_type": "code",
   "execution_count": 7,
   "metadata": {},
   "outputs": [],
   "source": [
    "def plot_ef_wrapper(industries, n_points, er, cov, show_cml, style, riskfree_rate, show_ew, show_gmv):\n",
    "    c = list(industries)\n",
    "    ind_er = er[c]\n",
    "    ind_cov = cov.loc[c, c]\n",
    "    erk.plot_ef(n_points, ind_er, ind_cov, show_cml, style, riskfree_rate, show_ew, show_gmv)"
   ]
  },
  {
   "cell_type": "code",
   "execution_count": 4,
   "metadata": {},
   "outputs": [
    {
     "data": {
      "application/vnd.jupyter.widget-view+json": {
       "model_id": "df02e33db24045aba58b87d8b431e0c5",
       "version_major": 2,
       "version_minor": 0
      },
      "text/plain": [
       "interactive(children=(SelectMultiple(description='Industries', options=('Food', 'Beer', 'Smoke', 'Games', 'Boo…"
      ]
     },
     "metadata": {},
     "output_type": "display_data"
    },
    {
     "data": {
      "text/plain": [
       "<function __main__.plot_ef_wrapper(industries, n_points, er, cov, show_cml, style, riskfree_rate, show_ew, show_gmv)>"
      ]
     },
     "execution_count": 4,
     "metadata": {},
     "output_type": "execute_result"
    }
   ],
   "source": [
    "interact_manual(plot_ef_wrapper, \n",
    "                industries=widgets.SelectMultiple(options=list(ind.columns), description='Industries'),\n",
    "                n_points=widgets.IntSlider(min=2, max=100, step=1, value=20), \n",
    "                er=fixed(er),\n",
    "                cov=fixed(cov),\n",
    "                show_cml=False,\n",
    "                style=fixed('.-'),\n",
    "                riskfree_rate=widgets.FloatSlider(min=0, max=0.10, step=0.01, value=0.03),\n",
    "                show_ew=True,\n",
    "                show_gmv=True)"
   ]
  }
 ],
 "metadata": {
  "kernelspec": {
   "display_name": "Python 3",
   "language": "python",
   "name": "python3"
  },
  "language_info": {
   "codemirror_mode": {
    "name": "ipython",
    "version": 3
   },
   "file_extension": ".py",
   "mimetype": "text/x-python",
   "name": "python",
   "nbconvert_exporter": "python",
   "pygments_lexer": "ipython3",
   "version": "3.8.3"
  }
 },
 "nbformat": 4,
 "nbformat_minor": 4
}
