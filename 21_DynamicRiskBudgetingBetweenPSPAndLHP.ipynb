{
 "cells": [
  {
   "cell_type": "markdown",
   "metadata": {},
   "source": [
    "# Dynamic Risk Budgeting"
   ]
  },
  {
   "cell_type": "code",
   "execution_count": 11,
   "metadata": {},
   "outputs": [
    {
     "name": "stdout",
     "output_type": "stream",
     "text": [
      "The autoreload extension is already loaded. To reload it, use:\n",
      "  %reload_ext autoreload\n"
     ]
    }
   ],
   "source": [
    "import numpy as np\n",
    "import pandas as pd\n",
    "import matplotlib.pyplot as plt\n",
    "import seaborn as sns\n",
    "import edhec_risk_kit as erk\n",
    "import ipywidgets as widgets\n",
    "from ipywidgets import interact, interactive, fixed, interact_manual\n",
    "from IPython.display import display\n",
    "\n",
    "%load_ext autoreload\n",
    "%autoreload 2\n",
    "%matplotlib inline"
   ]
  },
  {
   "cell_type": "code",
   "execution_count": 2,
   "metadata": {},
   "outputs": [],
   "source": [
    "n_scenarios = 5000\n",
    "rates, zc_prices = erk.cir(10, n_scenarios=n_scenarios, b=0.03, r_0=0.03, sigma=0.02)\n",
    "price_eq = erk.gbm(n_years=10, n_scenarios=n_scenarios, mu=0.07, sigma=0.15)"
   ]
  },
  {
   "cell_type": "code",
   "execution_count": 3,
   "metadata": {},
   "outputs": [
    {
     "data": {
      "text/html": [
       "<div>\n",
       "<style scoped>\n",
       "    .dataframe tbody tr th:only-of-type {\n",
       "        vertical-align: middle;\n",
       "    }\n",
       "\n",
       "    .dataframe tbody tr th {\n",
       "        vertical-align: top;\n",
       "    }\n",
       "\n",
       "    .dataframe thead th {\n",
       "        text-align: right;\n",
       "    }\n",
       "</style>\n",
       "<table border=\"1\" class=\"dataframe\">\n",
       "  <thead>\n",
       "    <tr style=\"text-align: right;\">\n",
       "      <th></th>\n",
       "      <th>ZC</th>\n",
       "      <th>Eq</th>\n",
       "      <th>70/30</th>\n",
       "    </tr>\n",
       "  </thead>\n",
       "  <tbody>\n",
       "    <tr>\n",
       "      <th>mean</th>\n",
       "      <td>1.34</td>\n",
       "      <td>1.96</td>\n",
       "      <td>1.75</td>\n",
       "    </tr>\n",
       "    <tr>\n",
       "      <th>std</th>\n",
       "      <td>0.00</td>\n",
       "      <td>0.99</td>\n",
       "      <td>0.60</td>\n",
       "    </tr>\n",
       "    <tr>\n",
       "      <th>p_breach</th>\n",
       "      <td>NaN</td>\n",
       "      <td>0.04</td>\n",
       "      <td>0.01</td>\n",
       "    </tr>\n",
       "    <tr>\n",
       "      <th>e_short</th>\n",
       "      <td>NaN</td>\n",
       "      <td>0.13</td>\n",
       "      <td>0.08</td>\n",
       "    </tr>\n",
       "    <tr>\n",
       "      <th>p_reach</th>\n",
       "      <td>NaN</td>\n",
       "      <td>NaN</td>\n",
       "      <td>NaN</td>\n",
       "    </tr>\n",
       "    <tr>\n",
       "      <th>e_surplus</th>\n",
       "      <td>NaN</td>\n",
       "      <td>NaN</td>\n",
       "      <td>NaN</td>\n",
       "    </tr>\n",
       "  </tbody>\n",
       "</table>\n",
       "</div>"
      ],
      "text/plain": [
       "             ZC    Eq  70/30\n",
       "mean       1.34  1.96   1.75\n",
       "std        0.00  0.99   0.60\n",
       "p_breach    NaN  0.04   0.01\n",
       "e_short     NaN  0.13   0.08\n",
       "p_reach     NaN   NaN    NaN\n",
       "e_surplus   NaN   NaN    NaN"
      ]
     },
     "execution_count": 3,
     "metadata": {},
     "output_type": "execute_result"
    }
   ],
   "source": [
    "rets_eq = price_eq.pct_change().dropna()\n",
    "rets_zc = zc_prices.pct_change().dropna()\n",
    "rets_7030b = erk.bt_mix(rets_eq, rets_zc, allocator=erk.fixedmix_allocator, w1=0.7)\n",
    "pd.concat([erk.terminal_stats(rets_zc, name='ZC', floor=0.75),\n",
    "           erk.terminal_stats(rets_eq, name='Eq', floor=0.75),\n",
    "           erk.terminal_stats(rets_7030b, name='70/30', floor=0.75)],\n",
    "         axis=1).round(2)"
   ]
  },
  {
   "cell_type": "code",
   "execution_count": 5,
   "metadata": {},
   "outputs": [
    {
     "data": {
      "text/html": [
       "<div>\n",
       "<style scoped>\n",
       "    .dataframe tbody tr th:only-of-type {\n",
       "        vertical-align: middle;\n",
       "    }\n",
       "\n",
       "    .dataframe tbody tr th {\n",
       "        vertical-align: top;\n",
       "    }\n",
       "\n",
       "    .dataframe thead th {\n",
       "        text-align: right;\n",
       "    }\n",
       "</style>\n",
       "<table border=\"1\" class=\"dataframe\">\n",
       "  <thead>\n",
       "    <tr style=\"text-align: right;\">\n",
       "      <th></th>\n",
       "      <th>ZC</th>\n",
       "      <th>Eq</th>\n",
       "      <th>70/30</th>\n",
       "      <th>Floor75</th>\n",
       "    </tr>\n",
       "  </thead>\n",
       "  <tbody>\n",
       "    <tr>\n",
       "      <th>mean</th>\n",
       "      <td>1.34</td>\n",
       "      <td>1.96</td>\n",
       "      <td>1.75</td>\n",
       "      <td>1.94</td>\n",
       "    </tr>\n",
       "    <tr>\n",
       "      <th>std</th>\n",
       "      <td>0.00</td>\n",
       "      <td>0.99</td>\n",
       "      <td>0.60</td>\n",
       "      <td>1.00</td>\n",
       "    </tr>\n",
       "    <tr>\n",
       "      <th>p_breach</th>\n",
       "      <td>NaN</td>\n",
       "      <td>0.04</td>\n",
       "      <td>0.01</td>\n",
       "      <td>NaN</td>\n",
       "    </tr>\n",
       "    <tr>\n",
       "      <th>e_short</th>\n",
       "      <td>NaN</td>\n",
       "      <td>0.13</td>\n",
       "      <td>0.08</td>\n",
       "      <td>NaN</td>\n",
       "    </tr>\n",
       "    <tr>\n",
       "      <th>p_reach</th>\n",
       "      <td>NaN</td>\n",
       "      <td>NaN</td>\n",
       "      <td>NaN</td>\n",
       "      <td>NaN</td>\n",
       "    </tr>\n",
       "    <tr>\n",
       "      <th>e_surplus</th>\n",
       "      <td>NaN</td>\n",
       "      <td>NaN</td>\n",
       "      <td>NaN</td>\n",
       "      <td>NaN</td>\n",
       "    </tr>\n",
       "  </tbody>\n",
       "</table>\n",
       "</div>"
      ],
      "text/plain": [
       "             ZC    Eq  70/30  Floor75\n",
       "mean       1.34  1.96   1.75     1.94\n",
       "std        0.00  0.99   0.60     1.00\n",
       "p_breach    NaN  0.04   0.01      NaN\n",
       "e_short     NaN  0.13   0.08      NaN\n",
       "p_reach     NaN   NaN    NaN      NaN\n",
       "e_surplus   NaN   NaN    NaN      NaN"
      ]
     },
     "execution_count": 5,
     "metadata": {},
     "output_type": "execute_result"
    }
   ],
   "source": [
    "rets_floor75 = erk.bt_mix(rets_eq, rets_zc, allocator=erk.floor_allocator, floor=0.75, zc_prices=zc_prices[1:])\n",
    "pd.concat([erk.terminal_stats(rets_zc, name='ZC', floor=0.75),\n",
    "           erk.terminal_stats(rets_eq, name='Eq', floor=0.75),\n",
    "           erk.terminal_stats(rets_7030b, name='70/30', floor=0.75),\n",
    "           erk.terminal_stats(rets_floor75, name='Floor75', floor=0.75)\n",
    "          ], axis=1).round(2)"
   ]
  },
  {
   "cell_type": "code",
   "execution_count": 9,
   "metadata": {},
   "outputs": [
    {
     "data": {
      "text/html": [
       "<div>\n",
       "<style scoped>\n",
       "    .dataframe tbody tr th:only-of-type {\n",
       "        vertical-align: middle;\n",
       "    }\n",
       "\n",
       "    .dataframe tbody tr th {\n",
       "        vertical-align: top;\n",
       "    }\n",
       "\n",
       "    .dataframe thead th {\n",
       "        text-align: right;\n",
       "    }\n",
       "</style>\n",
       "<table border=\"1\" class=\"dataframe\">\n",
       "  <thead>\n",
       "    <tr style=\"text-align: right;\">\n",
       "      <th></th>\n",
       "      <th>ZC</th>\n",
       "      <th>Eq</th>\n",
       "      <th>70/30</th>\n",
       "      <th>Floor75</th>\n",
       "      <th>Floor75m1</th>\n",
       "      <th>Floor75m5</th>\n",
       "    </tr>\n",
       "  </thead>\n",
       "  <tbody>\n",
       "    <tr>\n",
       "      <th>mean</th>\n",
       "      <td>1.34</td>\n",
       "      <td>1.96</td>\n",
       "      <td>1.75</td>\n",
       "      <td>1.94</td>\n",
       "      <td>1.62</td>\n",
       "      <td>1.95</td>\n",
       "    </tr>\n",
       "    <tr>\n",
       "      <th>std</th>\n",
       "      <td>0.00</td>\n",
       "      <td>0.99</td>\n",
       "      <td>0.60</td>\n",
       "      <td>1.00</td>\n",
       "      <td>0.44</td>\n",
       "      <td>1.00</td>\n",
       "    </tr>\n",
       "    <tr>\n",
       "      <th>p_breach</th>\n",
       "      <td>NaN</td>\n",
       "      <td>0.04</td>\n",
       "      <td>0.01</td>\n",
       "      <td>NaN</td>\n",
       "      <td>NaN</td>\n",
       "      <td>0.00</td>\n",
       "    </tr>\n",
       "    <tr>\n",
       "      <th>e_short</th>\n",
       "      <td>NaN</td>\n",
       "      <td>0.13</td>\n",
       "      <td>0.08</td>\n",
       "      <td>NaN</td>\n",
       "      <td>NaN</td>\n",
       "      <td>0.00</td>\n",
       "    </tr>\n",
       "    <tr>\n",
       "      <th>p_reach</th>\n",
       "      <td>NaN</td>\n",
       "      <td>NaN</td>\n",
       "      <td>NaN</td>\n",
       "      <td>NaN</td>\n",
       "      <td>NaN</td>\n",
       "      <td>NaN</td>\n",
       "    </tr>\n",
       "    <tr>\n",
       "      <th>e_surplus</th>\n",
       "      <td>NaN</td>\n",
       "      <td>NaN</td>\n",
       "      <td>NaN</td>\n",
       "      <td>NaN</td>\n",
       "      <td>NaN</td>\n",
       "      <td>NaN</td>\n",
       "    </tr>\n",
       "  </tbody>\n",
       "</table>\n",
       "</div>"
      ],
      "text/plain": [
       "             ZC    Eq  70/30  Floor75  Floor75m1  Floor75m5\n",
       "mean       1.34  1.96   1.75     1.94       1.62       1.95\n",
       "std        0.00  0.99   0.60     1.00       0.44       1.00\n",
       "p_breach    NaN  0.04   0.01      NaN        NaN       0.00\n",
       "e_short     NaN  0.13   0.08      NaN        NaN       0.00\n",
       "p_reach     NaN   NaN    NaN      NaN        NaN        NaN\n",
       "e_surplus   NaN   NaN    NaN      NaN        NaN        NaN"
      ]
     },
     "execution_count": 9,
     "metadata": {},
     "output_type": "execute_result"
    }
   ],
   "source": [
    "rets_floor75m1 = erk.bt_mix(rets_eq, rets_zc, allocator=erk.floor_allocator, floor=0.75, zc_prices=zc_prices[1:], m=1)\n",
    "rets_floor75m5 = erk.bt_mix(rets_eq, rets_zc, allocator=erk.floor_allocator, floor=0.75, zc_prices=zc_prices[1:], m=5)\n",
    "pd.concat([erk.terminal_stats(rets_zc, name='ZC', floor=0.75),\n",
    "           erk.terminal_stats(rets_eq, name='Eq', floor=0.75),\n",
    "           erk.terminal_stats(rets_7030b, name='70/30', floor=0.75),\n",
    "           erk.terminal_stats(rets_floor75, name='Floor75', floor=0.75),\n",
    "           erk.terminal_stats(rets_floor75m1, name='Floor75m1', floor=0.75),\n",
    "           erk.terminal_stats(rets_floor75m5, name='Floor75m5', floor=0.75)\n",
    "          ], axis=1).round(2)"
   ]
  },
  {
   "cell_type": "code",
   "execution_count": 10,
   "metadata": {},
   "outputs": [
    {
     "data": {
      "text/html": [
       "<div>\n",
       "<style scoped>\n",
       "    .dataframe tbody tr th:only-of-type {\n",
       "        vertical-align: middle;\n",
       "    }\n",
       "\n",
       "    .dataframe tbody tr th {\n",
       "        vertical-align: top;\n",
       "    }\n",
       "\n",
       "    .dataframe thead th {\n",
       "        text-align: right;\n",
       "    }\n",
       "</style>\n",
       "<table border=\"1\" class=\"dataframe\">\n",
       "  <thead>\n",
       "    <tr style=\"text-align: right;\">\n",
       "      <th></th>\n",
       "      <th>ZC</th>\n",
       "      <th>Eq</th>\n",
       "      <th>70/30</th>\n",
       "      <th>Floor75</th>\n",
       "      <th>Floor75m1</th>\n",
       "      <th>Floor75m5</th>\n",
       "    </tr>\n",
       "  </thead>\n",
       "  <tbody>\n",
       "    <tr>\n",
       "      <th>mean</th>\n",
       "      <td>1.3433</td>\n",
       "      <td>1.9643</td>\n",
       "      <td>1.7524</td>\n",
       "      <td>1.9413</td>\n",
       "      <td>1.6195</td>\n",
       "      <td>1.9511</td>\n",
       "    </tr>\n",
       "    <tr>\n",
       "      <th>std</th>\n",
       "      <td>0.0000</td>\n",
       "      <td>0.9940</td>\n",
       "      <td>0.6039</td>\n",
       "      <td>0.9980</td>\n",
       "      <td>0.4387</td>\n",
       "      <td>1.0009</td>\n",
       "    </tr>\n",
       "    <tr>\n",
       "      <th>p_breach</th>\n",
       "      <td>NaN</td>\n",
       "      <td>0.0390</td>\n",
       "      <td>0.0106</td>\n",
       "      <td>NaN</td>\n",
       "      <td>NaN</td>\n",
       "      <td>0.0002</td>\n",
       "    </tr>\n",
       "    <tr>\n",
       "      <th>e_short</th>\n",
       "      <td>NaN</td>\n",
       "      <td>0.1326</td>\n",
       "      <td>0.0836</td>\n",
       "      <td>NaN</td>\n",
       "      <td>NaN</td>\n",
       "      <td>0.0003</td>\n",
       "    </tr>\n",
       "    <tr>\n",
       "      <th>p_reach</th>\n",
       "      <td>NaN</td>\n",
       "      <td>NaN</td>\n",
       "      <td>NaN</td>\n",
       "      <td>NaN</td>\n",
       "      <td>NaN</td>\n",
       "      <td>NaN</td>\n",
       "    </tr>\n",
       "    <tr>\n",
       "      <th>e_surplus</th>\n",
       "      <td>NaN</td>\n",
       "      <td>NaN</td>\n",
       "      <td>NaN</td>\n",
       "      <td>NaN</td>\n",
       "      <td>NaN</td>\n",
       "      <td>NaN</td>\n",
       "    </tr>\n",
       "  </tbody>\n",
       "</table>\n",
       "</div>"
      ],
      "text/plain": [
       "               ZC      Eq   70/30  Floor75  Floor75m1  Floor75m5\n",
       "mean       1.3433  1.9643  1.7524   1.9413     1.6195     1.9511\n",
       "std        0.0000  0.9940  0.6039   0.9980     0.4387     1.0009\n",
       "p_breach      NaN  0.0390  0.0106      NaN        NaN     0.0002\n",
       "e_short       NaN  0.1326  0.0836      NaN        NaN     0.0003\n",
       "p_reach       NaN     NaN     NaN      NaN        NaN        NaN\n",
       "e_surplus     NaN     NaN     NaN      NaN        NaN        NaN"
      ]
     },
     "execution_count": 10,
     "metadata": {},
     "output_type": "execute_result"
    }
   ],
   "source": [
    "pd.concat([erk.terminal_stats(rets_zc, name='ZC', floor=0.75),\n",
    "           erk.terminal_stats(rets_eq, name='Eq', floor=0.75),\n",
    "           erk.terminal_stats(rets_7030b, name='70/30', floor=0.75),\n",
    "           erk.terminal_stats(rets_floor75, name='Floor75', floor=0.75),\n",
    "           erk.terminal_stats(rets_floor75m1, name='Floor75m1', floor=0.75),\n",
    "           erk.terminal_stats(rets_floor75m5, name='Floor75m5', floor=0.75)\n",
    "          ], axis=1).round(4)"
   ]
  },
  {
   "cell_type": "markdown",
   "metadata": {},
   "source": [
    "# Risk Budgeting with Drawdown Constraints"
   ]
  },
  {
   "cell_type": "code",
   "execution_count": 12,
   "metadata": {},
   "outputs": [
    {
     "data": {
      "text/html": [
       "<div>\n",
       "<style scoped>\n",
       "    .dataframe tbody tr th:only-of-type {\n",
       "        vertical-align: middle;\n",
       "    }\n",
       "\n",
       "    .dataframe tbody tr th {\n",
       "        vertical-align: top;\n",
       "    }\n",
       "\n",
       "    .dataframe thead th {\n",
       "        text-align: right;\n",
       "    }\n",
       "</style>\n",
       "<table border=\"1\" class=\"dataframe\">\n",
       "  <thead>\n",
       "    <tr style=\"text-align: right;\">\n",
       "      <th></th>\n",
       "      <th>ZC</th>\n",
       "      <th>Eq</th>\n",
       "      <th>70/30</th>\n",
       "      <th>Floor75</th>\n",
       "      <th>Floor75m1</th>\n",
       "      <th>Floor75m5</th>\n",
       "      <th>MaxDD25</th>\n",
       "    </tr>\n",
       "  </thead>\n",
       "  <tbody>\n",
       "    <tr>\n",
       "      <th>mean</th>\n",
       "      <td>1.3433</td>\n",
       "      <td>1.9643</td>\n",
       "      <td>1.7524</td>\n",
       "      <td>1.9413</td>\n",
       "      <td>1.6195</td>\n",
       "      <td>1.9511</td>\n",
       "      <td>1.6253</td>\n",
       "    </tr>\n",
       "    <tr>\n",
       "      <th>std</th>\n",
       "      <td>0.0000</td>\n",
       "      <td>0.9940</td>\n",
       "      <td>0.6039</td>\n",
       "      <td>0.9980</td>\n",
       "      <td>0.4387</td>\n",
       "      <td>1.0009</td>\n",
       "      <td>0.5473</td>\n",
       "    </tr>\n",
       "    <tr>\n",
       "      <th>p_breach</th>\n",
       "      <td>NaN</td>\n",
       "      <td>0.0390</td>\n",
       "      <td>0.0106</td>\n",
       "      <td>NaN</td>\n",
       "      <td>NaN</td>\n",
       "      <td>0.0002</td>\n",
       "      <td>NaN</td>\n",
       "    </tr>\n",
       "    <tr>\n",
       "      <th>e_short</th>\n",
       "      <td>NaN</td>\n",
       "      <td>0.1326</td>\n",
       "      <td>0.0836</td>\n",
       "      <td>NaN</td>\n",
       "      <td>NaN</td>\n",
       "      <td>0.0003</td>\n",
       "      <td>NaN</td>\n",
       "    </tr>\n",
       "    <tr>\n",
       "      <th>p_reach</th>\n",
       "      <td>NaN</td>\n",
       "      <td>NaN</td>\n",
       "      <td>NaN</td>\n",
       "      <td>NaN</td>\n",
       "      <td>NaN</td>\n",
       "      <td>NaN</td>\n",
       "      <td>NaN</td>\n",
       "    </tr>\n",
       "    <tr>\n",
       "      <th>e_surplus</th>\n",
       "      <td>NaN</td>\n",
       "      <td>NaN</td>\n",
       "      <td>NaN</td>\n",
       "      <td>NaN</td>\n",
       "      <td>NaN</td>\n",
       "      <td>NaN</td>\n",
       "      <td>NaN</td>\n",
       "    </tr>\n",
       "  </tbody>\n",
       "</table>\n",
       "</div>"
      ],
      "text/plain": [
       "               ZC      Eq   70/30  Floor75  Floor75m1  Floor75m5  MaxDD25\n",
       "mean       1.3433  1.9643  1.7524   1.9413     1.6195     1.9511   1.6253\n",
       "std        0.0000  0.9940  0.6039   0.9980     0.4387     1.0009   0.5473\n",
       "p_breach      NaN  0.0390  0.0106      NaN        NaN     0.0002      NaN\n",
       "e_short       NaN  0.1326  0.0836      NaN        NaN     0.0003      NaN\n",
       "p_reach       NaN     NaN     NaN      NaN        NaN        NaN      NaN\n",
       "e_surplus     NaN     NaN     NaN      NaN        NaN        NaN      NaN"
      ]
     },
     "execution_count": 12,
     "metadata": {},
     "output_type": "execute_result"
    }
   ],
   "source": [
    "cashrate = 0.02\n",
    "monthly_cashreturn = (1+cashrate)**(1/12) - 1\n",
    "rets_cash = pd.DataFrame(data=monthly_cashreturn, index=rets_eq.index, columns=rets_eq.columns)\n",
    "rets_maxdd25 = erk.bt_mix(rets_eq, rets_cash, allocator=erk.drawdown_allocator, maxdd=0.25)\n",
    "tv_maxdd25 = erk.terminal_values(rets_maxdd25)\n",
    "pd.concat([erk.terminal_stats(rets_zc, name='ZC', floor=0.75),\n",
    "           erk.terminal_stats(rets_eq, name='Eq', floor=0.75),\n",
    "           erk.terminal_stats(rets_7030b, name='70/30', floor=0.75),\n",
    "           erk.terminal_stats(rets_floor75, name='Floor75', floor=0.75),\n",
    "           erk.terminal_stats(rets_floor75m1, name='Floor75m1', floor=0.75),\n",
    "           erk.terminal_stats(rets_floor75m5, name='Floor75m5', floor=0.75),\n",
    "           erk.terminal_stats(rets_maxdd25, name='MaxDD25', floor=0.75)\n",
    "          ], axis=1).round(4)"
   ]
  },
  {
   "cell_type": "code",
   "execution_count": 13,
   "metadata": {},
   "outputs": [
    {
     "data": {
      "text/plain": [
       "0      -0.177878\n",
       "1      -0.121517\n",
       "2      -0.187522\n",
       "3      -0.171888\n",
       "4      -0.226899\n",
       "          ...   \n",
       "4995   -0.150268\n",
       "4996   -0.234857\n",
       "4997   -0.211772\n",
       "4998   -0.156193\n",
       "4999   -0.144493\n",
       "Name: Max Drawdown, Length: 5000, dtype: float64"
      ]
     },
     "execution_count": 13,
     "metadata": {},
     "output_type": "execute_result"
    }
   ],
   "source": [
    "erk.summary_stats(rets_maxdd25)['Max Drawdown']"
   ]
  },
  {
   "cell_type": "code",
   "execution_count": 14,
   "metadata": {},
   "outputs": [
    {
     "data": {
      "text/plain": [
       "-0.23485661206251499"
      ]
     },
     "execution_count": 14,
     "metadata": {},
     "output_type": "execute_result"
    }
   ],
   "source": [
    "erk.summary_stats(rets_maxdd25)['Max Drawdown'].min()"
   ]
  },
  {
   "cell_type": "code",
   "execution_count": 18,
   "metadata": {},
   "outputs": [
    {
     "data": {
      "text/plain": [
       "<matplotlib.legend.Legend at 0x7f4664b08b20>"
      ]
     },
     "execution_count": 18,
     "metadata": {},
     "output_type": "execute_result"
    },
    {
     "data": {
      "image/png": "[encoded data removed]",
      "text/plain": [
       "<Figure size 864x432 with 1 Axes>"
      ]
     },
     "metadata": {
      "needs_background": "light"
     },
     "output_type": "display_data"
    }
   ],
   "source": [
    "tv_eq = erk.terminal_values(rets_eq)\n",
    "tv_zc = erk.terminal_values(rets_zc)\n",
    "tv_7030b = erk.terminal_values(rets_7030b)\n",
    "tv_floor75 = erk.terminal_values(rets_floor75)\n",
    "tv_maxdd25 = erk.terminal_values(rets_maxdd25)\n",
    "\n",
    "# Plot\n",
    "plt.figure(figsize=(12,6))\n",
    "sns.distplot(tv_eq, color='red', label='100% Equities', bins=100)\n",
    "plt.axvline(tv_eq.mean(), ls='--', color='red')\n",
    "sns.distplot(tv_7030b, color='orange', label='70/30 Equities/Bonds', bins=100)\n",
    "plt.axvline(tv_7030b.mean(), ls='--', color='orange')\n",
    "sns.distplot(tv_floor75, color='green', label='Floor at 75%', bins=100)\n",
    "plt.axvline(tv_floor75.mean(), ls='--', color='green')\n",
    "sns.distplot(tv_maxdd25, color='yellow', label='MaxDD = 25%', bins=100)\n",
    "plt.axvline(tv_maxdd25.mean(), ls='--', color='yellow')\n",
    "plt.legend()"
   ]
  },
  {
   "cell_type": "markdown",
   "metadata": {},
   "source": [
    "# Drawdown constraint with Historical Data"
   ]
  },
  {
   "cell_type": "code",
   "execution_count": 19,
   "metadata": {},
   "outputs": [
    {
     "data": {
      "text/plain": [
       "<matplotlib.axes._subplots.AxesSubplot at 0x7f465dd4b970>"
      ]
     },
     "execution_count": 19,
     "metadata": {},
     "output_type": "execute_result"
    },
    {
     "data": {
      "image/png": "[encoded data removed]",
      "text/plain": [
       "<Figure size 864x432 with 1 Axes>"
      ]
     },
     "metadata": {
      "needs_background": "light"
     },
     "output_type": "display_data"
    }
   ],
   "source": [
    "rets_tmi = erk.get_total_market_index_returns()['1990':]\n",
    "dd_tmi = erk.drawdown(rets_tmi)\n",
    "ax = dd_tmi['Wealth'].plot(figsize=(12,6), ls='-', color='goldenrod')\n",
    "dd_tmi['Previous Peak'].plot(ax=ax, ls=':', color='goldenrod')"
   ]
  },
  {
   "cell_type": "code",
   "execution_count": 23,
   "metadata": {},
   "outputs": [
    {
     "data": {
      "text/plain": [
       "<matplotlib.axes._subplots.AxesSubplot at 0x7f465fc57970>"
      ]
     },
     "execution_count": 23,
     "metadata": {},
     "output_type": "execute_result"
    },
    {
     "data": {
      "image/png": "[encoded data removed]",
      "text/plain": [
       "<Figure size 864x432 with 1 Axes>"
      ]
     },
     "metadata": {
      "needs_background": "light"
     },
     "output_type": "display_data"
    }
   ],
   "source": [
    "cashrate = 0.03\n",
    "monthly_cashreturn = (1 + cashrate)**(1/12) - 1\n",
    "rets_cash = pd.DataFrame(data=monthly_cashreturn, index=rets_tmi.index, columns=[0]) # 1 column dataframe\n",
    "rets_maxdd25 = erk.bt_mix(pd.DataFrame(rets_tmi), rets_cash, allocator=erk.drawdown_allocator, maxdd=0.25, m=5)\n",
    "dd_25 = erk.drawdown(rets_maxdd25[0])\n",
    "\n",
    "ax = dd_tmi['Wealth'].plot(figsize=(12,6), ls='-', color='goldenrod', label='Market', legend=True)\n",
    "dd_tmi['Previous Peak'].plot(ax=ax, ls=':', color='goldenrod', legend=False)\n",
    "dd_25['Wealth'].plot(ax=ax, label='MaxDD 25%', color='cornflowerblue', legend=True)\n",
    "dd_25['Previous Peak'].plot(ax=ax, color='cornflowerblue', ls=':', legend=False)"
   ]
  },
  {
   "cell_type": "code",
   "execution_count": 24,
   "metadata": {},
   "outputs": [
    {
     "data": {
      "text/html": [
       "<div>\n",
       "<style scoped>\n",
       "    .dataframe tbody tr th:only-of-type {\n",
       "        vertical-align: middle;\n",
       "    }\n",
       "\n",
       "    .dataframe tbody tr th {\n",
       "        vertical-align: top;\n",
       "    }\n",
       "\n",
       "    .dataframe thead th {\n",
       "        text-align: right;\n",
       "    }\n",
       "</style>\n",
       "<table border=\"1\" class=\"dataframe\">\n",
       "  <thead>\n",
       "    <tr style=\"text-align: right;\">\n",
       "      <th></th>\n",
       "      <th>Annualized Return</th>\n",
       "      <th>Annualized Vol</th>\n",
       "      <th>Skewness</th>\n",
       "      <th>Kurtosis</th>\n",
       "      <th>Cornish-Fisher VaR (5%)</th>\n",
       "      <th>Historic CVaR (5%)</th>\n",
       "      <th>Sharpe Ratio</th>\n",
       "      <th>Max Drawdown</th>\n",
       "    </tr>\n",
       "  </thead>\n",
       "  <tbody>\n",
       "    <tr>\n",
       "      <th>Market</th>\n",
       "      <td>0.096058</td>\n",
       "      <td>0.145419</td>\n",
       "      <td>-0.668827</td>\n",
       "      <td>4.247282</td>\n",
       "      <td>0.066949</td>\n",
       "      <td>0.094633</td>\n",
       "      <td>0.441951</td>\n",
       "      <td>-0.499943</td>\n",
       "    </tr>\n",
       "    <tr>\n",
       "      <th>MaxDD</th>\n",
       "      <td>0.090062</td>\n",
       "      <td>0.112755</td>\n",
       "      <td>-0.630463</td>\n",
       "      <td>5.015334</td>\n",
       "      <td>0.049978</td>\n",
       "      <td>0.071074</td>\n",
       "      <td>0.518327</td>\n",
       "      <td>-0.244212</td>\n",
       "    </tr>\n",
       "  </tbody>\n",
       "</table>\n",
       "</div>"
      ],
      "text/plain": [
       "        Annualized Return  Annualized Vol  Skewness  Kurtosis  \\\n",
       "Market           0.096058        0.145419 -0.668827  4.247282   \n",
       "MaxDD            0.090062        0.112755 -0.630463  5.015334   \n",
       "\n",
       "        Cornish-Fisher VaR (5%)  Historic CVaR (5%)  Sharpe Ratio  \\\n",
       "Market                 0.066949            0.094633      0.441951   \n",
       "MaxDD                  0.049978            0.071074      0.518327   \n",
       "\n",
       "        Max Drawdown  \n",
       "Market     -0.499943  \n",
       "MaxDD      -0.244212  "
      ]
     },
     "execution_count": 24,
     "metadata": {},
     "output_type": "execute_result"
    }
   ],
   "source": [
    "erk.summary_stats(pd.concat([rets_tmi.rename('Market'), rets_maxdd25[0].rename('MaxDD')], axis=1))"
   ]
  }
 ],
 "metadata": {
  "kernelspec": {
   "display_name": "Python 3",
   "language": "python",
   "name": "python3"
  },
  "language_info": {
   "codemirror_mode": {
    "name": "ipython",
    "version": 3
   },
   "file_extension": ".py",
   "mimetype": "text/x-python",
   "name": "python",
   "nbconvert_exporter": "python",
   "pygments_lexer": "ipython3",
   "version": "3.8.3"
  }
 },
 "nbformat": 4,
 "nbformat_minor": 4
}
